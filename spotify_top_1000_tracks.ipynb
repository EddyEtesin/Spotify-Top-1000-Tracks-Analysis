{
 "cells": [
  {
   "cell_type": "code",
   "execution_count": 1,
   "id": "4eca73de-a6eb-4b96-aad3-7cc9765d35bd",
   "metadata": {},
   "outputs": [],
   "source": [
    "import pandas as pd\n",
    "import numpy as np\n",
    "import matplotlib.pyplot as plt\n",
    "import seaborn as sns\n",
    "from datetime import datetime"
   ]
  },
  {
   "cell_type": "code",
   "execution_count": 3,
   "id": "8ae093ac-5da1-4595-986f-fe57eac7db8b",
   "metadata": {},
   "outputs": [],
   "source": [
    "df = pd.read_csv(r\"C:\\Users\\LENOVO\\Desktop\\BR\\spotify_top_1000_tracks.csv\")"
   ]
  },
  {
   "cell_type": "code",
   "execution_count": 5,
   "id": "791261f9-958d-453d-a762-38c3c3b39e8f",
   "metadata": {},
   "outputs": [
    {
     "data": {
      "text/html": [
       "<div>\n",
       "<style scoped>\n",
       "    .dataframe tbody tr th:only-of-type {\n",
       "        vertical-align: middle;\n",
       "    }\n",
       "\n",
       "    .dataframe tbody tr th {\n",
       "        vertical-align: top;\n",
       "    }\n",
       "\n",
       "    .dataframe thead th {\n",
       "        text-align: right;\n",
       "    }\n",
       "</style>\n",
       "<table border=\"1\" class=\"dataframe\">\n",
       "  <thead>\n",
       "    <tr style=\"text-align: right;\">\n",
       "      <th></th>\n",
       "      <th>track_name</th>\n",
       "      <th>artist</th>\n",
       "      <th>album</th>\n",
       "      <th>release_date</th>\n",
       "      <th>popularity</th>\n",
       "      <th>spotify_url</th>\n",
       "      <th>id</th>\n",
       "      <th>duration_min</th>\n",
       "    </tr>\n",
       "  </thead>\n",
       "  <tbody>\n",
       "    <tr>\n",
       "      <th>0</th>\n",
       "      <td>All The Stars (with SZA)</td>\n",
       "      <td>Kendrick Lamar</td>\n",
       "      <td>Black Panther The Album Music From And Inspire...</td>\n",
       "      <td>2018-02-09</td>\n",
       "      <td>95</td>\n",
       "      <td>https://open.spotify.com/track/3GCdLUSnKSMJhs4...</td>\n",
       "      <td>3GCdLUSnKSMJhs4Tj6CV3s</td>\n",
       "      <td>3.869767</td>\n",
       "    </tr>\n",
       "    <tr>\n",
       "      <th>1</th>\n",
       "      <td>Starboy</td>\n",
       "      <td>The Weeknd</td>\n",
       "      <td>Starboy</td>\n",
       "      <td>2016-11-25</td>\n",
       "      <td>90</td>\n",
       "      <td>https://open.spotify.com/track/7MXVkk9YMctZqd1...</td>\n",
       "      <td>7MXVkk9YMctZqd1Srtv4MB</td>\n",
       "      <td>3.840883</td>\n",
       "    </tr>\n",
       "    <tr>\n",
       "      <th>2</th>\n",
       "      <td>Señorita</td>\n",
       "      <td>Shawn Mendes</td>\n",
       "      <td>Señorita</td>\n",
       "      <td>2019-06-21</td>\n",
       "      <td>80</td>\n",
       "      <td>https://open.spotify.com/track/0TK2YIli7K1leLo...</td>\n",
       "      <td>0TK2YIli7K1leLovkQiNik</td>\n",
       "      <td>3.182667</td>\n",
       "    </tr>\n",
       "    <tr>\n",
       "      <th>3</th>\n",
       "      <td>Heat Waves</td>\n",
       "      <td>Glass Animals</td>\n",
       "      <td>Dreamland</td>\n",
       "      <td>2020-08-07</td>\n",
       "      <td>87</td>\n",
       "      <td>https://open.spotify.com/track/3USxtqRwSYz57Ew...</td>\n",
       "      <td>3USxtqRwSYz57Ewm6wWRMp</td>\n",
       "      <td>3.980083</td>\n",
       "    </tr>\n",
       "    <tr>\n",
       "      <th>4</th>\n",
       "      <td>Let Me Love You</td>\n",
       "      <td>DJ Snake</td>\n",
       "      <td>Encore</td>\n",
       "      <td>2016-08-05</td>\n",
       "      <td>87</td>\n",
       "      <td>https://open.spotify.com/track/0lYBSQXN6rCTvUZ...</td>\n",
       "      <td>0lYBSQXN6rCTvUZvg9S0lU</td>\n",
       "      <td>3.432433</td>\n",
       "    </tr>\n",
       "    <tr>\n",
       "      <th>...</th>\n",
       "      <td>...</td>\n",
       "      <td>...</td>\n",
       "      <td>...</td>\n",
       "      <td>...</td>\n",
       "      <td>...</td>\n",
       "      <td>...</td>\n",
       "      <td>...</td>\n",
       "      <td>...</td>\n",
       "    </tr>\n",
       "    <tr>\n",
       "      <th>995</th>\n",
       "      <td>Lily</td>\n",
       "      <td>ISAEV</td>\n",
       "      <td>Lily</td>\n",
       "      <td>2023-02-24</td>\n",
       "      <td>0</td>\n",
       "      <td>https://open.spotify.com/track/4tVhDkvh6N4lrTy...</td>\n",
       "      <td>4tVhDkvh6N4lrTyNeZHYuz</td>\n",
       "      <td>2.572100</td>\n",
       "    </tr>\n",
       "    <tr>\n",
       "      <th>996</th>\n",
       "      <td>Apologize</td>\n",
       "      <td>Besomorph</td>\n",
       "      <td>Apologize</td>\n",
       "      <td>2020-05-08</td>\n",
       "      <td>5</td>\n",
       "      <td>https://open.spotify.com/track/0Uo43DNldd7aNxi...</td>\n",
       "      <td>0Uo43DNldd7aNxizhKgowg</td>\n",
       "      <td>2.443350</td>\n",
       "    </tr>\n",
       "    <tr>\n",
       "      <th>997</th>\n",
       "      <td>I’m Good</td>\n",
       "      <td>Yohan Gerber</td>\n",
       "      <td>I’m Good</td>\n",
       "      <td>2023-05-19</td>\n",
       "      <td>0</td>\n",
       "      <td>https://open.spotify.com/track/2aZL4EjY5aPKWTO...</td>\n",
       "      <td>2aZL4EjY5aPKWTO7RKuWiy</td>\n",
       "      <td>2.376000</td>\n",
       "    </tr>\n",
       "    <tr>\n",
       "      <th>998</th>\n",
       "      <td>Down</td>\n",
       "      <td>Arc North</td>\n",
       "      <td>Down</td>\n",
       "      <td>2020-07-02</td>\n",
       "      <td>1</td>\n",
       "      <td>https://open.spotify.com/track/6nQZG4G0vIrQWaC...</td>\n",
       "      <td>6nQZG4G0vIrQWaCGbqHCQn</td>\n",
       "      <td>2.391667</td>\n",
       "    </tr>\n",
       "    <tr>\n",
       "      <th>999</th>\n",
       "      <td>Chandelier</td>\n",
       "      <td>Besomage</td>\n",
       "      <td>Chandelier</td>\n",
       "      <td>2023-01-04</td>\n",
       "      <td>0</td>\n",
       "      <td>https://open.spotify.com/track/1Ea8I3MoGx36FfA...</td>\n",
       "      <td>1Ea8I3MoGx36FfAmrjzo1r</td>\n",
       "      <td>2.295650</td>\n",
       "    </tr>\n",
       "  </tbody>\n",
       "</table>\n",
       "<p>1000 rows × 8 columns</p>\n",
       "</div>"
      ],
      "text/plain": [
       "                   track_name          artist  \\\n",
       "0    All The Stars (with SZA)  Kendrick Lamar   \n",
       "1                     Starboy      The Weeknd   \n",
       "2                    Señorita    Shawn Mendes   \n",
       "3                  Heat Waves   Glass Animals   \n",
       "4             Let Me Love You        DJ Snake   \n",
       "..                        ...             ...   \n",
       "995                      Lily           ISAEV   \n",
       "996                 Apologize       Besomorph   \n",
       "997                  I’m Good    Yohan Gerber   \n",
       "998                      Down       Arc North   \n",
       "999                Chandelier        Besomage   \n",
       "\n",
       "                                                 album release_date  \\\n",
       "0    Black Panther The Album Music From And Inspire...   2018-02-09   \n",
       "1                                              Starboy   2016-11-25   \n",
       "2                                             Señorita   2019-06-21   \n",
       "3                                            Dreamland   2020-08-07   \n",
       "4                                               Encore   2016-08-05   \n",
       "..                                                 ...          ...   \n",
       "995                                               Lily   2023-02-24   \n",
       "996                                          Apologize   2020-05-08   \n",
       "997                                           I’m Good   2023-05-19   \n",
       "998                                               Down   2020-07-02   \n",
       "999                                         Chandelier   2023-01-04   \n",
       "\n",
       "     popularity                                        spotify_url  \\\n",
       "0            95  https://open.spotify.com/track/3GCdLUSnKSMJhs4...   \n",
       "1            90  https://open.spotify.com/track/7MXVkk9YMctZqd1...   \n",
       "2            80  https://open.spotify.com/track/0TK2YIli7K1leLo...   \n",
       "3            87  https://open.spotify.com/track/3USxtqRwSYz57Ew...   \n",
       "4            87  https://open.spotify.com/track/0lYBSQXN6rCTvUZ...   \n",
       "..          ...                                                ...   \n",
       "995           0  https://open.spotify.com/track/4tVhDkvh6N4lrTy...   \n",
       "996           5  https://open.spotify.com/track/0Uo43DNldd7aNxi...   \n",
       "997           0  https://open.spotify.com/track/2aZL4EjY5aPKWTO...   \n",
       "998           1  https://open.spotify.com/track/6nQZG4G0vIrQWaC...   \n",
       "999           0  https://open.spotify.com/track/1Ea8I3MoGx36FfA...   \n",
       "\n",
       "                         id  duration_min  \n",
       "0    3GCdLUSnKSMJhs4Tj6CV3s      3.869767  \n",
       "1    7MXVkk9YMctZqd1Srtv4MB      3.840883  \n",
       "2    0TK2YIli7K1leLovkQiNik      3.182667  \n",
       "3    3USxtqRwSYz57Ewm6wWRMp      3.980083  \n",
       "4    0lYBSQXN6rCTvUZvg9S0lU      3.432433  \n",
       "..                      ...           ...  \n",
       "995  4tVhDkvh6N4lrTyNeZHYuz      2.572100  \n",
       "996  0Uo43DNldd7aNxizhKgowg      2.443350  \n",
       "997  2aZL4EjY5aPKWTO7RKuWiy      2.376000  \n",
       "998  6nQZG4G0vIrQWaCGbqHCQn      2.391667  \n",
       "999  1Ea8I3MoGx36FfAmrjzo1r      2.295650  \n",
       "\n",
       "[1000 rows x 8 columns]"
      ]
     },
     "execution_count": 5,
     "metadata": {},
     "output_type": "execute_result"
    }
   ],
   "source": [
    "df"
   ]
  },
  {
   "cell_type": "code",
   "execution_count": null,
   "id": "5ee52949-ca1d-491a-be64-a53bafa0defb",
   "metadata": {},
   "outputs": [],
   "source": [
    "##Which artist appears most frequently in the top 1000 tracks?"
   ]
  },
  {
   "cell_type": "code",
   "execution_count": 11,
   "id": "cfd5dff1-cd9d-46e8-9ec5-7c040b3cdbb9",
   "metadata": {},
   "outputs": [
    {
     "data": {
      "text/plain": [
       "'The Weeknd'"
      ]
     },
     "execution_count": 11,
     "metadata": {},
     "output_type": "execute_result"
    }
   ],
   "source": [
    "df[\"artist\"].value_counts().idxmax()"
   ]
  },
  {
   "cell_type": "code",
   "execution_count": null,
   "id": "7e1db235-90fc-4740-a863-7db22b26134b",
   "metadata": {},
   "outputs": [],
   "source": [
    "##What is the distribution of track popularity?"
   ]
  },
  {
   "cell_type": "code",
   "execution_count": 21,
   "id": "af27e337-f842-4374-95a3-fd12e5fc0683",
   "metadata": {},
   "outputs": [],
   "source": [
    "bins = [0,20,40,60,80,100]\n",
    "labels = [\"Very low\",\"Low\",\"Moderate\",\"Popular\",\"Very Popular\"]"
   ]
  },
  {
   "cell_type": "code",
   "execution_count": 29,
   "id": "d2a947ab-2626-4749-8a4e-7e3704577a87",
   "metadata": {},
   "outputs": [],
   "source": [
    "df[\"Popularity_Level\"] = pd.cut(df[\"popularity\"],bins = bins, labels = labels, include_lowest = True)"
   ]
  },
  {
   "cell_type": "code",
   "execution_count": 31,
   "id": "b8d1ca61-2675-490d-bdbb-42bb4a504ccc",
   "metadata": {},
   "outputs": [
    {
     "data": {
      "text/html": [
       "<div>\n",
       "<style scoped>\n",
       "    .dataframe tbody tr th:only-of-type {\n",
       "        vertical-align: middle;\n",
       "    }\n",
       "\n",
       "    .dataframe tbody tr th {\n",
       "        vertical-align: top;\n",
       "    }\n",
       "\n",
       "    .dataframe thead th {\n",
       "        text-align: right;\n",
       "    }\n",
       "</style>\n",
       "<table border=\"1\" class=\"dataframe\">\n",
       "  <thead>\n",
       "    <tr style=\"text-align: right;\">\n",
       "      <th></th>\n",
       "      <th>track_name</th>\n",
       "      <th>artist</th>\n",
       "      <th>album</th>\n",
       "      <th>release_date</th>\n",
       "      <th>popularity</th>\n",
       "      <th>spotify_url</th>\n",
       "      <th>id</th>\n",
       "      <th>duration_min</th>\n",
       "      <th>Popularity_Level</th>\n",
       "    </tr>\n",
       "  </thead>\n",
       "  <tbody>\n",
       "    <tr>\n",
       "      <th>995</th>\n",
       "      <td>Lily</td>\n",
       "      <td>ISAEV</td>\n",
       "      <td>Lily</td>\n",
       "      <td>2023-02-24</td>\n",
       "      <td>0</td>\n",
       "      <td>https://open.spotify.com/track/4tVhDkvh6N4lrTy...</td>\n",
       "      <td>4tVhDkvh6N4lrTyNeZHYuz</td>\n",
       "      <td>2.572100</td>\n",
       "      <td>Very low</td>\n",
       "    </tr>\n",
       "    <tr>\n",
       "      <th>996</th>\n",
       "      <td>Apologize</td>\n",
       "      <td>Besomorph</td>\n",
       "      <td>Apologize</td>\n",
       "      <td>2020-05-08</td>\n",
       "      <td>5</td>\n",
       "      <td>https://open.spotify.com/track/0Uo43DNldd7aNxi...</td>\n",
       "      <td>0Uo43DNldd7aNxizhKgowg</td>\n",
       "      <td>2.443350</td>\n",
       "      <td>Very low</td>\n",
       "    </tr>\n",
       "    <tr>\n",
       "      <th>997</th>\n",
       "      <td>I’m Good</td>\n",
       "      <td>Yohan Gerber</td>\n",
       "      <td>I’m Good</td>\n",
       "      <td>2023-05-19</td>\n",
       "      <td>0</td>\n",
       "      <td>https://open.spotify.com/track/2aZL4EjY5aPKWTO...</td>\n",
       "      <td>2aZL4EjY5aPKWTO7RKuWiy</td>\n",
       "      <td>2.376000</td>\n",
       "      <td>Very low</td>\n",
       "    </tr>\n",
       "    <tr>\n",
       "      <th>998</th>\n",
       "      <td>Down</td>\n",
       "      <td>Arc North</td>\n",
       "      <td>Down</td>\n",
       "      <td>2020-07-02</td>\n",
       "      <td>1</td>\n",
       "      <td>https://open.spotify.com/track/6nQZG4G0vIrQWaC...</td>\n",
       "      <td>6nQZG4G0vIrQWaCGbqHCQn</td>\n",
       "      <td>2.391667</td>\n",
       "      <td>Very low</td>\n",
       "    </tr>\n",
       "    <tr>\n",
       "      <th>999</th>\n",
       "      <td>Chandelier</td>\n",
       "      <td>Besomage</td>\n",
       "      <td>Chandelier</td>\n",
       "      <td>2023-01-04</td>\n",
       "      <td>0</td>\n",
       "      <td>https://open.spotify.com/track/1Ea8I3MoGx36FfA...</td>\n",
       "      <td>1Ea8I3MoGx36FfAmrjzo1r</td>\n",
       "      <td>2.295650</td>\n",
       "      <td>Very low</td>\n",
       "    </tr>\n",
       "  </tbody>\n",
       "</table>\n",
       "</div>"
      ],
      "text/plain": [
       "     track_name        artist       album release_date  popularity  \\\n",
       "995        Lily         ISAEV        Lily   2023-02-24           0   \n",
       "996   Apologize     Besomorph   Apologize   2020-05-08           5   \n",
       "997    I’m Good  Yohan Gerber    I’m Good   2023-05-19           0   \n",
       "998        Down     Arc North        Down   2020-07-02           1   \n",
       "999  Chandelier      Besomage  Chandelier   2023-01-04           0   \n",
       "\n",
       "                                           spotify_url  \\\n",
       "995  https://open.spotify.com/track/4tVhDkvh6N4lrTy...   \n",
       "996  https://open.spotify.com/track/0Uo43DNldd7aNxi...   \n",
       "997  https://open.spotify.com/track/2aZL4EjY5aPKWTO...   \n",
       "998  https://open.spotify.com/track/6nQZG4G0vIrQWaC...   \n",
       "999  https://open.spotify.com/track/1Ea8I3MoGx36FfA...   \n",
       "\n",
       "                         id  duration_min Popularity_Level  \n",
       "995  4tVhDkvh6N4lrTyNeZHYuz      2.572100         Very low  \n",
       "996  0Uo43DNldd7aNxizhKgowg      2.443350         Very low  \n",
       "997  2aZL4EjY5aPKWTO7RKuWiy      2.376000         Very low  \n",
       "998  6nQZG4G0vIrQWaCGbqHCQn      2.391667         Very low  \n",
       "999  1Ea8I3MoGx36FfAmrjzo1r      2.295650         Very low  "
      ]
     },
     "execution_count": 31,
     "metadata": {},
     "output_type": "execute_result"
    }
   ],
   "source": [
    "df.tail()"
   ]
  },
  {
   "cell_type": "code",
   "execution_count": 37,
   "id": "b1271d85-d09a-42cc-bc42-553b51c34981",
   "metadata": {},
   "outputs": [
    {
     "name": "stderr",
     "output_type": "stream",
     "text": [
      "C:\\Users\\LENOVO\\AppData\\Local\\Temp\\ipykernel_36108\\1977170890.py:1: FutureWarning: The default of observed=False is deprecated and will be changed to True in a future version of pandas. Pass observed=False to retain current behavior or observed=True to adopt the future default and silence this warning.\n",
      "  df.groupby(\"Popularity_Level\")[\"track_name\"].count().reset_index(name = \"Track Count\")\n"
     ]
    },
    {
     "data": {
      "text/html": [
       "<div>\n",
       "<style scoped>\n",
       "    .dataframe tbody tr th:only-of-type {\n",
       "        vertical-align: middle;\n",
       "    }\n",
       "\n",
       "    .dataframe tbody tr th {\n",
       "        vertical-align: top;\n",
       "    }\n",
       "\n",
       "    .dataframe thead th {\n",
       "        text-align: right;\n",
       "    }\n",
       "</style>\n",
       "<table border=\"1\" class=\"dataframe\">\n",
       "  <thead>\n",
       "    <tr style=\"text-align: right;\">\n",
       "      <th></th>\n",
       "      <th>Popularity_Level</th>\n",
       "      <th>Track Count</th>\n",
       "    </tr>\n",
       "  </thead>\n",
       "  <tbody>\n",
       "    <tr>\n",
       "      <th>0</th>\n",
       "      <td>Very low</td>\n",
       "      <td>153</td>\n",
       "    </tr>\n",
       "    <tr>\n",
       "      <th>1</th>\n",
       "      <td>Low</td>\n",
       "      <td>126</td>\n",
       "    </tr>\n",
       "    <tr>\n",
       "      <th>2</th>\n",
       "      <td>Moderate</td>\n",
       "      <td>122</td>\n",
       "    </tr>\n",
       "    <tr>\n",
       "      <th>3</th>\n",
       "      <td>Popular</td>\n",
       "      <td>398</td>\n",
       "    </tr>\n",
       "    <tr>\n",
       "      <th>4</th>\n",
       "      <td>Very Popular</td>\n",
       "      <td>201</td>\n",
       "    </tr>\n",
       "  </tbody>\n",
       "</table>\n",
       "</div>"
      ],
      "text/plain": [
       "  Popularity_Level  Track Count\n",
       "0         Very low          153\n",
       "1              Low          126\n",
       "2         Moderate          122\n",
       "3          Popular          398\n",
       "4     Very Popular          201"
      ]
     },
     "execution_count": 37,
     "metadata": {},
     "output_type": "execute_result"
    }
   ],
   "source": [
    "df.groupby(\"Popularity_Level\")[\"track_name\"].count().reset_index(name = \"Track Count\")"
   ]
  },
  {
   "cell_type": "code",
   "execution_count": null,
   "id": "2eb9b638-b4ee-48a5-91af-0316181fea01",
   "metadata": {},
   "outputs": [],
   "source": [
    "##What is the average duration of the top tracks?"
   ]
  },
  {
   "cell_type": "code",
   "execution_count": 47,
   "id": "56629972-3941-4dee-8d8b-56ff32faa9eb",
   "metadata": {},
   "outputs": [
    {
     "data": {
      "text/plain": [
       "track_name\n",
       "10,000 Hours (with Justin Bieber)    2.794883\n",
       "2002                                 3.116433\n",
       "22                                   3.868667\n",
       "2step                                2.560433\n",
       "5% TINT                              3.268967\n",
       "                                       ...   \n",
       "telepatía                            2.669850\n",
       "thank u, next                        3.455333\n",
       "waves - Tame Impala Remix            4.222433\n",
       "whoa (mind in awe)                   2.629600\n",
       "wish you were gay                    3.692383\n",
       "Name: duration_min, Length: 583, dtype: float64"
      ]
     },
     "execution_count": 47,
     "metadata": {},
     "output_type": "execute_result"
    }
   ],
   "source": [
    "df[df[\"Popularity_Level\"].isin([\"Very Popular\", \"Popular\"])].groupby(\"track_name\")[\"duration_min\"].mean()"
   ]
  },
  {
   "cell_type": "code",
   "execution_count": null,
   "id": "0560ed3f-bd6f-4bcd-901f-81f93f7ea29c",
   "metadata": {},
   "outputs": [],
   "source": [
    "##Which track has the highest popularity?"
   ]
  },
  {
   "cell_type": "code",
   "execution_count": 59,
   "id": "d79f7122-1ed8-430a-ba29-32417f06ed2a",
   "metadata": {},
   "outputs": [
    {
     "data": {
      "text/plain": [
       "'That’s So True'"
      ]
     },
     "execution_count": 59,
     "metadata": {},
     "output_type": "execute_result"
    }
   ],
   "source": [
    "df.groupby(\"track_name\")[\"popularity\"].mean().sort_values().idxmax()"
   ]
  },
  {
   "cell_type": "code",
   "execution_count": 61,
   "id": "fe4c1641-0475-4063-a358-8bcf58f4793f",
   "metadata": {},
   "outputs": [],
   "source": [
    "##How many unique albums are represented in the dataset?"
   ]
  },
  {
   "cell_type": "code",
   "execution_count": 69,
   "id": "8863d70e-7657-4f99-afb5-3761e749e379",
   "metadata": {},
   "outputs": [
    {
     "data": {
      "text/plain": [
       "822"
      ]
     },
     "execution_count": 69,
     "metadata": {},
     "output_type": "execute_result"
    }
   ],
   "source": [
    "df[\"album\"].nunique()"
   ]
  },
  {
   "cell_type": "code",
   "execution_count": null,
   "id": "96769b31-a1f1-49a5-ab6d-5f127e020390",
   "metadata": {},
   "outputs": [],
   "source": [
    "##Are there any artists with multiple tracks from the same album?"
   ]
  },
  {
   "cell_type": "code",
   "execution_count": 89,
   "id": "534c430e-61f6-4224-a62e-4156a4729113",
   "metadata": {},
   "outputs": [
    {
     "data": {
      "text/html": [
       "<div>\n",
       "<style scoped>\n",
       "    .dataframe tbody tr th:only-of-type {\n",
       "        vertical-align: middle;\n",
       "    }\n",
       "\n",
       "    .dataframe tbody tr th {\n",
       "        vertical-align: top;\n",
       "    }\n",
       "\n",
       "    .dataframe thead th {\n",
       "        text-align: right;\n",
       "    }\n",
       "</style>\n",
       "<table border=\"1\" class=\"dataframe\">\n",
       "  <thead>\n",
       "    <tr style=\"text-align: right;\">\n",
       "      <th></th>\n",
       "      <th>artist</th>\n",
       "      <th>album</th>\n",
       "      <th>track_count</th>\n",
       "    </tr>\n",
       "  </thead>\n",
       "  <tbody>\n",
       "    <tr>\n",
       "      <th>26</th>\n",
       "      <td>Adele</td>\n",
       "      <td>21</td>\n",
       "      <td>2</td>\n",
       "    </tr>\n",
       "    <tr>\n",
       "      <th>27</th>\n",
       "      <td>Adele</td>\n",
       "      <td>25</td>\n",
       "      <td>2</td>\n",
       "    </tr>\n",
       "    <tr>\n",
       "      <th>35</th>\n",
       "      <td>Alan Walker</td>\n",
       "      <td>Different World</td>\n",
       "      <td>7</td>\n",
       "    </tr>\n",
       "    <tr>\n",
       "      <th>54</th>\n",
       "      <td>Anne-Marie</td>\n",
       "      <td>Speak Your Mind (Deluxe)</td>\n",
       "      <td>4</td>\n",
       "    </tr>\n",
       "    <tr>\n",
       "      <th>57</th>\n",
       "      <td>Aqua</td>\n",
       "      <td>Aquarium (Special Edition)</td>\n",
       "      <td>4</td>\n",
       "    </tr>\n",
       "    <tr>\n",
       "      <th>...</th>\n",
       "      <td>...</td>\n",
       "      <td>...</td>\n",
       "      <td>...</td>\n",
       "    </tr>\n",
       "    <tr>\n",
       "      <th>764</th>\n",
       "      <td>The Weeknd</td>\n",
       "      <td>House Of Balloons (Original)</td>\n",
       "      <td>2</td>\n",
       "    </tr>\n",
       "    <tr>\n",
       "      <th>766</th>\n",
       "      <td>The Weeknd</td>\n",
       "      <td>My Dear Melancholy,</td>\n",
       "      <td>2</td>\n",
       "    </tr>\n",
       "    <tr>\n",
       "      <th>767</th>\n",
       "      <td>The Weeknd</td>\n",
       "      <td>Starboy</td>\n",
       "      <td>6</td>\n",
       "    </tr>\n",
       "    <tr>\n",
       "      <th>770</th>\n",
       "      <td>The Weeknd</td>\n",
       "      <td>Trilogy</td>\n",
       "      <td>2</td>\n",
       "    </tr>\n",
       "    <tr>\n",
       "      <th>771</th>\n",
       "      <td>The xx</td>\n",
       "      <td>xx</td>\n",
       "      <td>3</td>\n",
       "    </tr>\n",
       "  </tbody>\n",
       "</table>\n",
       "<p>90 rows × 3 columns</p>\n",
       "</div>"
      ],
      "text/plain": [
       "          artist                         album  track_count\n",
       "26         Adele                            21            2\n",
       "27         Adele                            25            2\n",
       "35   Alan Walker               Different World            7\n",
       "54    Anne-Marie      Speak Your Mind (Deluxe)            4\n",
       "57          Aqua    Aquarium (Special Edition)            4\n",
       "..           ...                           ...          ...\n",
       "764   The Weeknd  House Of Balloons (Original)            2\n",
       "766   The Weeknd           My Dear Melancholy,            2\n",
       "767   The Weeknd                       Starboy            6\n",
       "770   The Weeknd                       Trilogy            2\n",
       "771       The xx                            xx            3\n",
       "\n",
       "[90 rows x 3 columns]"
      ]
     },
     "execution_count": 89,
     "metadata": {},
     "output_type": "execute_result"
    }
   ],
   "source": [
    "tracks = df.groupby(['artist', 'album']).size().reset_index(name='track_count')\n",
    "tracks[tracks['track_count'] > 1]"
   ]
  },
  {
   "cell_type": "code",
   "execution_count": null,
   "id": "16643bc3-1254-47f7-8543-74af404dc19f",
   "metadata": {},
   "outputs": [],
   "source": [
    "##What is the most common release year among the top tracks?"
   ]
  },
  {
   "cell_type": "code",
   "execution_count": 107,
   "id": "c371a71e-dddd-40b6-b7b7-d35e3168bed9",
   "metadata": {},
   "outputs": [],
   "source": [
    "df['release_date'] = pd.to_datetime(df[\"release_date\"], errors = 'coerce')\n",
    "df['release_year'] = df[\"release_date\"].dt.year.astype('Int64')"
   ]
  },
  {
   "cell_type": "code",
   "execution_count": 125,
   "id": "6e317686-c21c-41ad-8a3d-3033136245e7",
   "metadata": {},
   "outputs": [
    {
     "data": {
      "text/plain": [
       "release_year            2025\n",
       "No of songs released     137\n",
       "dtype: Int64"
      ]
     },
     "execution_count": 125,
     "metadata": {},
     "output_type": "execute_result"
    }
   ],
   "source": [
    "df.groupby('release_year')['track_name'].count().reset_index(name = \"No of songs released\").max()"
   ]
  },
  {
   "cell_type": "code",
   "execution_count": null,
   "id": "bb48393c-360a-4b81-93c5-e1ca27082e7a",
   "metadata": {},
   "outputs": [],
   "source": [
    "##Is there a relationship between track duration and popularity?"
   ]
  },
  {
   "cell_type": "code",
   "execution_count": 133,
   "id": "e1435375-082f-4638-9a19-7edb87d9f886",
   "metadata": {},
   "outputs": [
    {
     "data": {
      "text/html": [
       "<div>\n",
       "<style scoped>\n",
       "    .dataframe tbody tr th:only-of-type {\n",
       "        vertical-align: middle;\n",
       "    }\n",
       "\n",
       "    .dataframe tbody tr th {\n",
       "        vertical-align: top;\n",
       "    }\n",
       "\n",
       "    .dataframe thead th {\n",
       "        text-align: right;\n",
       "    }\n",
       "</style>\n",
       "<table border=\"1\" class=\"dataframe\">\n",
       "  <thead>\n",
       "    <tr style=\"text-align: right;\">\n",
       "      <th></th>\n",
       "      <th>duration_min</th>\n",
       "      <th>popularity</th>\n",
       "    </tr>\n",
       "  </thead>\n",
       "  <tbody>\n",
       "    <tr>\n",
       "      <th>duration_min</th>\n",
       "      <td>1.000000</td>\n",
       "      <td>0.256154</td>\n",
       "    </tr>\n",
       "    <tr>\n",
       "      <th>popularity</th>\n",
       "      <td>0.256154</td>\n",
       "      <td>1.000000</td>\n",
       "    </tr>\n",
       "  </tbody>\n",
       "</table>\n",
       "</div>"
      ],
      "text/plain": [
       "              duration_min  popularity\n",
       "duration_min      1.000000    0.256154\n",
       "popularity        0.256154    1.000000"
      ]
     },
     "execution_count": 133,
     "metadata": {},
     "output_type": "execute_result"
    }
   ],
   "source": [
    "df[[\"duration_min\",\"popularity\"]].corr()\t"
   ]
  },
  {
   "cell_type": "code",
   "execution_count": 151,
   "id": "e2111c1b-cc69-4ca6-84c4-7e3a5fd86af3",
   "metadata": {},
   "outputs": [
    {
     "data": {
      "image/png": "[encoded data removed]",
      "text/plain": [
       "<Figure size 640x480 with 1 Axes>"
      ]
     },
     "metadata": {},
     "output_type": "display_data"
    }
   ],
   "source": [
    "sns.scatterplot(x = \"duration_min\", y = \"popularity\", data = df, alpha = 0.6, edgecolor=None )\n",
    "plt.title(\"Track Duration vs Popularity(Corr:0.26)\", fontsize=14)\n",
    "plt.xlabel(\"Duration (minutes)\")\n",
    "plt.ylabel(\"Popularity\")\n",
    "plt.grid(True, color='gray', linestyle='--', linewidth=0.4, alpha=0.3)"
   ]
  },
  {
   "cell_type": "code",
   "execution_count": 157,
   "id": "92fa02f6-f633-4dea-be00-dbe0d6a64121",
   "metadata": {},
   "outputs": [
    {
     "data": {
      "text/plain": [
       "'The correlation between track duration and popularity is approximately 0.26 — a weak positive relationship.What this means is Longer songs tend to be slightly more popular, but the connection is not strong and There’s a wide spread in popularity regardless of duration.'"
      ]
     },
     "execution_count": 157,
     "metadata": {},
     "output_type": "execute_result"
    }
   ],
   "source": [
    "\"\"\"The correlation between track duration and popularity is approximately 0.26 — a weak positive relationship.What this means is Longer songs tend to be slightly more popular, but the connection is not strong and There’s a wide spread in popularity regardless of duration.\"\"\""
   ]
  },
  {
   "cell_type": "code",
   "execution_count": null,
   "id": "6802cb7f-7f75-4c9e-8a55-e518e575e2b9",
   "metadata": {},
   "outputs": [],
   "source": [
    "##How many tracks were released each year?"
   ]
  },
  {
   "cell_type": "code",
   "execution_count": 159,
   "id": "19542fb7-7532-4794-8130-d110de7fe16f",
   "metadata": {},
   "outputs": [
    {
     "data": {
      "text/html": [
       "<div>\n",
       "<style scoped>\n",
       "    .dataframe tbody tr th:only-of-type {\n",
       "        vertical-align: middle;\n",
       "    }\n",
       "\n",
       "    .dataframe tbody tr th {\n",
       "        vertical-align: top;\n",
       "    }\n",
       "\n",
       "    .dataframe thead th {\n",
       "        text-align: right;\n",
       "    }\n",
       "</style>\n",
       "<table border=\"1\" class=\"dataframe\">\n",
       "  <thead>\n",
       "    <tr style=\"text-align: right;\">\n",
       "      <th></th>\n",
       "      <th>release_year</th>\n",
       "      <th>No of songs released</th>\n",
       "    </tr>\n",
       "  </thead>\n",
       "  <tbody>\n",
       "    <tr>\n",
       "      <th>0</th>\n",
       "      <td>1981</td>\n",
       "      <td>1</td>\n",
       "    </tr>\n",
       "    <tr>\n",
       "      <th>1</th>\n",
       "      <td>1992</td>\n",
       "      <td>1</td>\n",
       "    </tr>\n",
       "    <tr>\n",
       "      <th>2</th>\n",
       "      <td>1996</td>\n",
       "      <td>1</td>\n",
       "    </tr>\n",
       "    <tr>\n",
       "      <th>3</th>\n",
       "      <td>1997</td>\n",
       "      <td>5</td>\n",
       "    </tr>\n",
       "    <tr>\n",
       "      <th>4</th>\n",
       "      <td>1998</td>\n",
       "      <td>1</td>\n",
       "    </tr>\n",
       "    <tr>\n",
       "      <th>5</th>\n",
       "      <td>2000</td>\n",
       "      <td>4</td>\n",
       "    </tr>\n",
       "    <tr>\n",
       "      <th>6</th>\n",
       "      <td>2001</td>\n",
       "      <td>1</td>\n",
       "    </tr>\n",
       "    <tr>\n",
       "      <th>7</th>\n",
       "      <td>2002</td>\n",
       "      <td>6</td>\n",
       "    </tr>\n",
       "    <tr>\n",
       "      <th>8</th>\n",
       "      <td>2003</td>\n",
       "      <td>5</td>\n",
       "    </tr>\n",
       "    <tr>\n",
       "      <th>9</th>\n",
       "      <td>2004</td>\n",
       "      <td>4</td>\n",
       "    </tr>\n",
       "    <tr>\n",
       "      <th>10</th>\n",
       "      <td>2005</td>\n",
       "      <td>7</td>\n",
       "    </tr>\n",
       "    <tr>\n",
       "      <th>11</th>\n",
       "      <td>2006</td>\n",
       "      <td>5</td>\n",
       "    </tr>\n",
       "    <tr>\n",
       "      <th>12</th>\n",
       "      <td>2007</td>\n",
       "      <td>25</td>\n",
       "    </tr>\n",
       "    <tr>\n",
       "      <th>13</th>\n",
       "      <td>2008</td>\n",
       "      <td>7</td>\n",
       "    </tr>\n",
       "    <tr>\n",
       "      <th>14</th>\n",
       "      <td>2009</td>\n",
       "      <td>12</td>\n",
       "    </tr>\n",
       "    <tr>\n",
       "      <th>15</th>\n",
       "      <td>2010</td>\n",
       "      <td>23</td>\n",
       "    </tr>\n",
       "    <tr>\n",
       "      <th>16</th>\n",
       "      <td>2011</td>\n",
       "      <td>27</td>\n",
       "    </tr>\n",
       "    <tr>\n",
       "      <th>17</th>\n",
       "      <td>2012</td>\n",
       "      <td>43</td>\n",
       "    </tr>\n",
       "    <tr>\n",
       "      <th>18</th>\n",
       "      <td>2013</td>\n",
       "      <td>35</td>\n",
       "    </tr>\n",
       "    <tr>\n",
       "      <th>19</th>\n",
       "      <td>2014</td>\n",
       "      <td>42</td>\n",
       "    </tr>\n",
       "    <tr>\n",
       "      <th>20</th>\n",
       "      <td>2015</td>\n",
       "      <td>47</td>\n",
       "    </tr>\n",
       "    <tr>\n",
       "      <th>21</th>\n",
       "      <td>2016</td>\n",
       "      <td>49</td>\n",
       "    </tr>\n",
       "    <tr>\n",
       "      <th>22</th>\n",
       "      <td>2017</td>\n",
       "      <td>64</td>\n",
       "    </tr>\n",
       "    <tr>\n",
       "      <th>23</th>\n",
       "      <td>2018</td>\n",
       "      <td>87</td>\n",
       "    </tr>\n",
       "    <tr>\n",
       "      <th>24</th>\n",
       "      <td>2019</td>\n",
       "      <td>76</td>\n",
       "    </tr>\n",
       "    <tr>\n",
       "      <th>25</th>\n",
       "      <td>2020</td>\n",
       "      <td>56</td>\n",
       "    </tr>\n",
       "    <tr>\n",
       "      <th>26</th>\n",
       "      <td>2021</td>\n",
       "      <td>69</td>\n",
       "    </tr>\n",
       "    <tr>\n",
       "      <th>27</th>\n",
       "      <td>2022</td>\n",
       "      <td>56</td>\n",
       "    </tr>\n",
       "    <tr>\n",
       "      <th>28</th>\n",
       "      <td>2023</td>\n",
       "      <td>49</td>\n",
       "    </tr>\n",
       "    <tr>\n",
       "      <th>29</th>\n",
       "      <td>2024</td>\n",
       "      <td>137</td>\n",
       "    </tr>\n",
       "    <tr>\n",
       "      <th>30</th>\n",
       "      <td>2025</td>\n",
       "      <td>32</td>\n",
       "    </tr>\n",
       "  </tbody>\n",
       "</table>\n",
       "</div>"
      ],
      "text/plain": [
       "    release_year  No of songs released\n",
       "0           1981                     1\n",
       "1           1992                     1\n",
       "2           1996                     1\n",
       "3           1997                     5\n",
       "4           1998                     1\n",
       "5           2000                     4\n",
       "6           2001                     1\n",
       "7           2002                     6\n",
       "8           2003                     5\n",
       "9           2004                     4\n",
       "10          2005                     7\n",
       "11          2006                     5\n",
       "12          2007                    25\n",
       "13          2008                     7\n",
       "14          2009                    12\n",
       "15          2010                    23\n",
       "16          2011                    27\n",
       "17          2012                    43\n",
       "18          2013                    35\n",
       "19          2014                    42\n",
       "20          2015                    47\n",
       "21          2016                    49\n",
       "22          2017                    64\n",
       "23          2018                    87\n",
       "24          2019                    76\n",
       "25          2020                    56\n",
       "26          2021                    69\n",
       "27          2022                    56\n",
       "28          2023                    49\n",
       "29          2024                   137\n",
       "30          2025                    32"
      ]
     },
     "execution_count": 159,
     "metadata": {},
     "output_type": "execute_result"
    }
   ],
   "source": [
    "df.groupby('release_year')['track_name'].count().reset_index(name = \"No of songs released\")"
   ]
  },
  {
   "cell_type": "code",
   "execution_count": null,
   "id": "f25de6c3-6dff-436c-abd2-7d7bdcd71042",
   "metadata": {},
   "outputs": [],
   "source": [
    "##Which albums have the most tracks in the top 1000?"
   ]
  },
  {
   "cell_type": "code",
   "execution_count": 173,
   "id": "6d535005-8ee4-448d-a024-1662723cab36",
   "metadata": {},
   "outputs": [
    {
     "data": {
      "text/html": [
       "<div>\n",
       "<style scoped>\n",
       "    .dataframe tbody tr th:only-of-type {\n",
       "        vertical-align: middle;\n",
       "    }\n",
       "\n",
       "    .dataframe tbody tr th {\n",
       "        vertical-align: top;\n",
       "    }\n",
       "\n",
       "    .dataframe thead th {\n",
       "        text-align: right;\n",
       "    }\n",
       "</style>\n",
       "<table border=\"1\" class=\"dataframe\">\n",
       "  <thead>\n",
       "    <tr style=\"text-align: right;\">\n",
       "      <th></th>\n",
       "      <th>album</th>\n",
       "      <th>Track count</th>\n",
       "    </tr>\n",
       "  </thead>\n",
       "  <tbody>\n",
       "    <tr>\n",
       "      <th>680</th>\n",
       "      <td>The Best Damn Thing (Expanded Edition)</td>\n",
       "      <td>17</td>\n",
       "    </tr>\n",
       "    <tr>\n",
       "      <th>176</th>\n",
       "      <td>Different World</td>\n",
       "      <td>7</td>\n",
       "    </tr>\n",
       "    <tr>\n",
       "      <th>629</th>\n",
       "      <td>Starboy</td>\n",
       "      <td>6</td>\n",
       "    </tr>\n",
       "    <tr>\n",
       "      <th>623</th>\n",
       "      <td>Speak Your Mind (Deluxe)</td>\n",
       "      <td>6</td>\n",
       "    </tr>\n",
       "    <tr>\n",
       "      <th>820</th>\n",
       "      <td>÷ (Deluxe)</td>\n",
       "      <td>5</td>\n",
       "    </tr>\n",
       "    <tr>\n",
       "      <th>419</th>\n",
       "      <td>Lover</td>\n",
       "      <td>5</td>\n",
       "    </tr>\n",
       "    <tr>\n",
       "      <th>166</th>\n",
       "      <td>Dangerous Woman</td>\n",
       "      <td>5</td>\n",
       "    </tr>\n",
       "    <tr>\n",
       "      <th>523</th>\n",
       "      <td>PRISM</td>\n",
       "      <td>4</td>\n",
       "    </tr>\n",
       "    <tr>\n",
       "      <th>434</th>\n",
       "      <td>Make You Mine</td>\n",
       "      <td>4</td>\n",
       "    </tr>\n",
       "    <tr>\n",
       "      <th>168</th>\n",
       "      <td>Dawn FM</td>\n",
       "      <td>4</td>\n",
       "    </tr>\n",
       "  </tbody>\n",
       "</table>\n",
       "</div>"
      ],
      "text/plain": [
       "                                      album  Track count\n",
       "680  The Best Damn Thing (Expanded Edition)           17\n",
       "176                         Different World            7\n",
       "629                                 Starboy            6\n",
       "623                Speak Your Mind (Deluxe)            6\n",
       "820                              ÷ (Deluxe)            5\n",
       "419                                   Lover            5\n",
       "166                         Dangerous Woman            5\n",
       "523                                   PRISM            4\n",
       "434                           Make You Mine            4\n",
       "168                                 Dawn FM            4"
      ]
     },
     "execution_count": 173,
     "metadata": {},
     "output_type": "execute_result"
    }
   ],
   "source": [
    "df.groupby(\"album\")[\"track_name\"].count().reset_index(name = \"Track count\").sort_values(\"Track count\",ascending = False).head(10)"
   ]
  },
  {
   "cell_type": "code",
   "execution_count": null,
   "id": "3e92a4f1-b1b7-448c-8a95-019865381a1d",
   "metadata": {},
   "outputs": [],
   "source": [
    "##What is the average popularity of tracks by artist?"
   ]
  },
  {
   "cell_type": "code",
   "execution_count": 181,
   "id": "66934050-9a64-423b-974d-eae69c327016",
   "metadata": {},
   "outputs": [
    {
     "data": {
      "text/html": [
       "<div>\n",
       "<style scoped>\n",
       "    .dataframe tbody tr th:only-of-type {\n",
       "        vertical-align: middle;\n",
       "    }\n",
       "\n",
       "    .dataframe tbody tr th {\n",
       "        vertical-align: top;\n",
       "    }\n",
       "\n",
       "    .dataframe thead th {\n",
       "        text-align: right;\n",
       "    }\n",
       "</style>\n",
       "<table border=\"1\" class=\"dataframe\">\n",
       "  <thead>\n",
       "    <tr style=\"text-align: right;\">\n",
       "      <th></th>\n",
       "      <th>artist</th>\n",
       "      <th>Average Popularity</th>\n",
       "    </tr>\n",
       "  </thead>\n",
       "  <tbody>\n",
       "    <tr>\n",
       "      <th>0</th>\n",
       "      <td>24kGoldn</td>\n",
       "      <td>79.0</td>\n",
       "    </tr>\n",
       "    <tr>\n",
       "      <th>1</th>\n",
       "      <td>2WEI</td>\n",
       "      <td>4.0</td>\n",
       "    </tr>\n",
       "    <tr>\n",
       "      <th>2</th>\n",
       "      <td>347aidan</td>\n",
       "      <td>68.5</td>\n",
       "    </tr>\n",
       "    <tr>\n",
       "      <th>3</th>\n",
       "      <td>5 Seconds of Summer</td>\n",
       "      <td>83.0</td>\n",
       "    </tr>\n",
       "    <tr>\n",
       "      <th>4</th>\n",
       "      <td>54GODART</td>\n",
       "      <td>37.0</td>\n",
       "    </tr>\n",
       "    <tr>\n",
       "      <th>...</th>\n",
       "      <td>...</td>\n",
       "      <td>...</td>\n",
       "    </tr>\n",
       "    <tr>\n",
       "      <th>521</th>\n",
       "      <td>sped up nightcore</td>\n",
       "      <td>55.0</td>\n",
       "    </tr>\n",
       "    <tr>\n",
       "      <th>522</th>\n",
       "      <td>t.A.T.u.</td>\n",
       "      <td>79.0</td>\n",
       "    </tr>\n",
       "    <tr>\n",
       "      <th>523</th>\n",
       "      <td>vaultboy</td>\n",
       "      <td>61.5</td>\n",
       "    </tr>\n",
       "    <tr>\n",
       "      <th>524</th>\n",
       "      <td>yung kai</td>\n",
       "      <td>92.0</td>\n",
       "    </tr>\n",
       "    <tr>\n",
       "      <th>525</th>\n",
       "      <td>✝✝✝ (Crosses)</td>\n",
       "      <td>0.0</td>\n",
       "    </tr>\n",
       "  </tbody>\n",
       "</table>\n",
       "<p>526 rows × 2 columns</p>\n",
       "</div>"
      ],
      "text/plain": [
       "                  artist  Average Popularity\n",
       "0               24kGoldn                79.0\n",
       "1                   2WEI                 4.0\n",
       "2               347aidan                68.5\n",
       "3    5 Seconds of Summer                83.0\n",
       "4               54GODART                37.0\n",
       "..                   ...                 ...\n",
       "521    sped up nightcore                55.0\n",
       "522             t.A.T.u.                79.0\n",
       "523             vaultboy                61.5\n",
       "524             yung kai                92.0\n",
       "525        ✝✝✝ (Crosses)                 0.0\n",
       "\n",
       "[526 rows x 2 columns]"
      ]
     },
     "execution_count": 181,
     "metadata": {},
     "output_type": "execute_result"
    }
   ],
   "source": [
    "df.groupby(\"artist\")[\"popularity\"].mean().reset_index(name = \"Average Popularity\")"
   ]
  },
  {
   "cell_type": "code",
   "execution_count": null,
   "id": "85721317-aa77-40df-8930-625598d25710",
   "metadata": {},
   "outputs": [],
   "source": [
    "##How many tracks have a popularity score above 90?"
   ]
  },
  {
   "cell_type": "code",
   "execution_count": 189,
   "id": "5f18eaf8-2b57-419a-9668-e983b27396d4",
   "metadata": {},
   "outputs": [
    {
     "data": {
      "text/plain": [
       "9"
      ]
     },
     "execution_count": 189,
     "metadata": {},
     "output_type": "execute_result"
    }
   ],
   "source": [
    "df[df[\"popularity\"] > 90].shape[0]"
   ]
  },
  {
   "cell_type": "code",
   "execution_count": null,
   "id": "32f3cedc-989d-4e7a-8f8f-bc2f667fae01",
   "metadata": {},
   "outputs": [],
   "source": [
    "##Which track has the longest duration?"
   ]
  },
  {
   "cell_type": "code",
   "execution_count": 193,
   "id": "df71a349-2dc4-41d5-80ef-2b118b4cf0b0",
   "metadata": {},
   "outputs": [
    {
     "data": {
      "text/plain": [
       "'Lost Boy'"
      ]
     },
     "execution_count": 193,
     "metadata": {},
     "output_type": "execute_result"
    }
   ],
   "source": [
    "df.groupby(\"track_name\")[\"duration_min\"].mean().idxmax()"
   ]
  },
  {
   "cell_type": "code",
   "execution_count": null,
   "id": "cee87804-a551-459e-8ebf-b7c0a231ab3c",
   "metadata": {},
   "outputs": [],
   "source": [
    "##Are there any trends in release dates over time?"
   ]
  },
  {
   "cell_type": "code",
   "execution_count": 197,
   "id": "9db87ae3-2ca2-476f-a753-74f38169ca60",
   "metadata": {},
   "outputs": [],
   "source": [
    "trend_analysis = df.groupby(\"release_year\")[\"track_name\"].count()"
   ]
  },
  {
   "cell_type": "code",
   "execution_count": 217,
   "id": "e4220682-00cb-4edb-b1c3-e3fa3cbadbe3",
   "metadata": {},
   "outputs": [
    {
     "data": {
      "image/png": "[encoded data removed]",
      "text/plain": [
       "<Figure size 640x480 with 1 Axes>"
      ]
     },
     "metadata": {},
     "output_type": "display_data"
    }
   ],
   "source": [
    "trend_analysis.plot(title = \"Number of Tracks by Release year\", xlabel = \"Release Year\", ylabel = \"Tracks Released\", marker = 'o', markersize = 3, color = 'orange')\n",
    "plt.grid(True,color='gray', linestyle='--', linewidth=0.4, alpha=0.3)"
   ]
  },
  {
   "cell_type": "code",
   "execution_count": null,
   "id": "b732d452-1286-4f87-9fc8-639ce0bf8031",
   "metadata": {},
   "outputs": [],
   "source": [
    "##How does popularity vary by decade of release?"
   ]
  },
  {
   "cell_type": "code",
   "execution_count": 223,
   "id": "d3f88e8d-42fe-44ce-92ba-34615bb568ac",
   "metadata": {},
   "outputs": [],
   "source": [
    "df['decade'] = (df['release_year'] // 10) * 10"
   ]
  },
  {
   "cell_type": "code",
   "execution_count": 243,
   "id": "7959d624-0231-49a2-b7f8-f5cbe4f79607",
   "metadata": {},
   "outputs": [],
   "source": [
    "decade_trend = df.groupby(\"decade\")[\"popularity\"].mean()"
   ]
  },
  {
   "cell_type": "code",
   "execution_count": 253,
   "id": "5cb23868-2ba9-4630-b68f-3676db3070de",
   "metadata": {},
   "outputs": [
    {
     "data": {
      "image/png": "[encoded data removed]",
      "text/plain": [
       "<Figure size 640x480 with 1 Axes>"
      ]
     },
     "metadata": {},
     "output_type": "display_data"
    }
   ],
   "source": [
    "decade_trend.plot(title = \"Popularity By Decade\", xlabel = \"Decade\", ylabel = \"Popularity(Avg)\", marker= 'o', markersize = 4, color = 'orange')\n",
    "plt.grid(True, linewidth = 0.5, linestyle = '--', alpha = 0.3)"
   ]
  },
  {
   "cell_type": "code",
   "execution_count": 257,
   "id": "534433af-b218-44e2-8a95-ff143a1df243",
   "metadata": {},
   "outputs": [
    {
     "data": {
      "text/html": [
       "<div>\n",
       "<style scoped>\n",
       "    .dataframe tbody tr th:only-of-type {\n",
       "        vertical-align: middle;\n",
       "    }\n",
       "\n",
       "    .dataframe tbody tr th {\n",
       "        vertical-align: top;\n",
       "    }\n",
       "\n",
       "    .dataframe thead th {\n",
       "        text-align: right;\n",
       "    }\n",
       "</style>\n",
       "<table border=\"1\" class=\"dataframe\">\n",
       "  <thead>\n",
       "    <tr style=\"text-align: right;\">\n",
       "      <th></th>\n",
       "      <th>decade</th>\n",
       "      <th>popularity</th>\n",
       "    </tr>\n",
       "  </thead>\n",
       "  <tbody>\n",
       "    <tr>\n",
       "      <th>0</th>\n",
       "      <td>1980</td>\n",
       "      <td>67.000000</td>\n",
       "    </tr>\n",
       "    <tr>\n",
       "      <th>1</th>\n",
       "      <td>1990</td>\n",
       "      <td>61.000000</td>\n",
       "    </tr>\n",
       "    <tr>\n",
       "      <th>2</th>\n",
       "      <td>2000</td>\n",
       "      <td>61.473684</td>\n",
       "    </tr>\n",
       "    <tr>\n",
       "      <th>3</th>\n",
       "      <td>2010</td>\n",
       "      <td>65.115619</td>\n",
       "    </tr>\n",
       "    <tr>\n",
       "      <th>4</th>\n",
       "      <td>2020</td>\n",
       "      <td>45.348371</td>\n",
       "    </tr>\n",
       "  </tbody>\n",
       "</table>\n",
       "</div>"
      ],
      "text/plain": [
       "   decade  popularity\n",
       "0    1980   67.000000\n",
       "1    1990   61.000000\n",
       "2    2000   61.473684\n",
       "3    2010   65.115619\n",
       "4    2020   45.348371"
      ]
     },
     "execution_count": 257,
     "metadata": {},
     "output_type": "execute_result"
    }
   ],
   "source": [
    "decade_trend.reset_index()"
   ]
  },
  {
   "cell_type": "code",
   "execution_count": null,
   "id": "7b915dc9-cf68-480b-bfc0-42b4652246d0",
   "metadata": {},
   "outputs": [],
   "source": []
  },
  {
   "cell_type": "code",
   "execution_count": null,
   "id": "12558c0c-bb7a-4437-86af-3998a5964bc7",
   "metadata": {},
   "outputs": [],
   "source": []
  },
  {
   "cell_type": "code",
   "execution_count": null,
   "id": "4ad19ce2-d45f-4376-9736-f877484ab9ed",
   "metadata": {},
   "outputs": [],
   "source": []
  },
  {
   "cell_type": "code",
   "execution_count": null,
   "id": "be15cafb-8655-4fa5-802b-016867bc8804",
   "metadata": {},
   "outputs": [],
   "source": []
  }
 ],
 "metadata": {
  "kernelspec": {
   "display_name": "Python 3 (ipykernel)",
   "language": "python",
   "name": "python3"
  },
  "language_info": {
   "codemirror_mode": {
    "name": "ipython",
    "version": 3
   },
   "file_extension": ".py",
   "mimetype": "text/x-python",
   "name": "python",
   "nbconvert_exporter": "python",
   "pygments_lexer": "ipython3",
   "version": "3.12.4"
  }
 },
 "nbformat": 4,
 "nbformat_minor": 5
}
